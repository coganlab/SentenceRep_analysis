{
 "cells": [
  {
   "cell_type": "code",
   "execution_count": 1,
   "id": "initial_id",
   "metadata": {
    "ExecuteTime": {
     "end_time": "2024-09-05T19:20:33.917553Z",
     "start_time": "2024-09-05T19:20:26.343607Z"
    },
    "collapsed": true
   },
   "outputs": [
    {
     "name": "stdout",
     "output_type": "stream",
     "text": [
      "Python 3.12.4 | packaged by Anaconda, Inc. | (main, Jun 18 2024, 10:07:17) [Clang 14.0.6 ] on darwin\n",
      "\n",
      "WARNING: statsmodels is not installed. You will be unable to use the Naive Bayes Decoder\n",
      "\n",
      "WARNING: sklearnex is not installed. You will be unable to use thePCA decoder acceleration\n",
      "\n",
      "WARNING: Xgboost package is not installed. You will be unable touse the xgboost decoder\n",
      "\n",
      "WARNING: Keras package is not installed. You will be unable to useall neural net decoders\n"
     ]
    }
   ],
   "source": [
    "# Decoding script, takes a GroupData set and uses Linear Discriminant Analysis\n",
    "# to decode trial conditions or word tokens from neural data\n",
    "\n",
    "import numpy as np\n",
    "import os\n",
    "import pandas as pd\n",
    "\n",
    "# import matplotlib\n",
    "# matplotlib.use('notebook')\n",
    "import sys; print('Python %s on %s' % (sys.version, sys.platform))\n",
    "sys.path.extend(['/Users/yuchaowang/Documents/git/SentenceRep_analysis'])\n",
    "from analysis.grouping import GroupData\n",
    "from analysis.decoding import plot_all_scores\n",
    "from analysis.decoding.words import score, dict_to_structured_array"
   ]
  },
  {
   "cell_type": "code",
   "execution_count": 2,
   "id": "ca6774fde3b10957",
   "metadata": {
    "ExecuteTime": {
     "start_time": "2024-09-05T19:20:34.026940Z"
    },
    "jupyter": {
     "is_executing": true
    }
   },
   "outputs": [
    {
     "name": "stderr",
     "output_type": "stream",
     "text": [
      "Loading significance: 100%|██████████| 34/34 [00:01<00:00, 19.09it/s]\n",
      "Loading power: 100%|██████████| 34/34 [00:09<00:00,  3.48it/s]\n",
      "Loading zscore: 100%|██████████| 34/34 [00:09<00:00,  3.42it/s]\n",
      "Loading pval: 100%|██████████| 34/34 [00:01<00:00, 19.28it/s]\n"
     ]
    }
   ],
   "source": [
    "# %% Imports\n",
    "box = os.path.expanduser(os.path.join(\"~\", \"Library\", \"CloudStorage\", \"Box-Box\"))\n",
    "fpath = os.path.join(box, \"CoganLab\")\n",
    "subjects_dir = os.path.join(box, \"ECoG_Recon\")\n",
    "sub = GroupData.from_intermediates(\n",
    "    \"SentenceRep\", fpath, folder='stats', subjects_dir=subjects_dir)\n",
    "all_data = []\n",
    "colors = [[0, 1, 0]]\n",
    "scores = {'Auditory': None}\n",
    "idxs = [sub.AUD, sub.PROD, sub.SM]\n",
    "idxs = [list(idx) for idx in idxs]\n",
    "names = list(scores.keys())\n",
    "conds = [['aud_ls', 'aud_lm'],[]]\n",
    "window_kwargs = {'window': 20, 'obs_axs': 1, 'normalize': 'true', 'n_jobs': -2,\n",
    "                'average_repetitions': False}\n",
    "\n"
   ]
  },
  {
   "cell_type": "code",
   "execution_count": 3,
   "id": "97c4b4fe",
   "metadata": {},
   "outputs": [
    {
     "name": "stdout",
     "output_type": "stream",
     "text": [
      "None\n"
     ]
    },
    {
     "ename": "FileNotFoundError",
     "evalue": "subjects_dir does not exist: \"/Users/yuchaowang/Box/ECoG_Recon\"",
     "output_type": "error",
     "traceback": [
      "\u001b[0;31m---------------------------------------------------------------------------\u001b[0m",
      "\u001b[0;31mFileNotFoundError\u001b[0m                         Traceback (most recent call last)",
      "Cell \u001b[0;32mIn[3], line 3\u001b[0m\n\u001b[1;32m      1\u001b[0m \u001b[38;5;28mprint\u001b[39m(sub\u001b[38;5;241m.\u001b[39mkeys\u001b[38;5;241m.\u001b[39mget(\u001b[38;5;124m'\u001b[39m\u001b[38;5;124mchannels\u001b[39m\u001b[38;5;124m'\u001b[39m))\n\u001b[1;32m      2\u001b[0m channels \u001b[38;5;241m=\u001b[39m pd\u001b[38;5;241m.\u001b[39mDataFrame(sub\u001b[38;5;241m.\u001b[39mkeys\u001b[38;5;241m.\u001b[39mget(\u001b[38;5;124m'\u001b[39m\u001b[38;5;124mepoch\u001b[39m\u001b[38;5;124m'\u001b[39m))\n\u001b[0;32m----> 3\u001b[0m sub\u001b[38;5;241m.\u001b[39mplot_groups_on_average(idxs)\n\u001b[1;32m      4\u001b[0m fig\u001b[38;5;241m.\u001b[39mshow()\n",
      "File \u001b[0;32m~/Documents/git/SentenceRep_analysis/analysis/grouping.py:400\u001b[0m, in \u001b[0;36mGroupData.plot_groups_on_average\u001b[0;34m(self, groups, colors, **kwargs)\u001b[0m\n\u001b[1;32m    398\u001b[0m     colors \u001b[38;5;241m=\u001b[39m \u001b[38;5;28mlist\u001b[39m(colors)\n\u001b[1;32m    399\u001b[0m \u001b[38;5;28;01mif\u001b[39;00m kwargs\u001b[38;5;241m.\u001b[39mget(\u001b[38;5;124m'\u001b[39m\u001b[38;5;124mfig\u001b[39m\u001b[38;5;124m'\u001b[39m) \u001b[38;5;129;01mis\u001b[39;00m \u001b[38;5;28;01mNone\u001b[39;00m:\n\u001b[0;32m--> 400\u001b[0m     kwargs[\u001b[38;5;124m'\u001b[39m\u001b[38;5;124mfig\u001b[39m\u001b[38;5;124m'\u001b[39m] \u001b[38;5;241m=\u001b[39m plot_on_average(\u001b[38;5;28mself\u001b[39m\u001b[38;5;241m.\u001b[39msubjects, picks\u001b[38;5;241m=\u001b[39m\u001b[38;5;28mnext\u001b[39m(itergroup),\n\u001b[1;32m    401\u001b[0m                             color\u001b[38;5;241m=\u001b[39mcolors\u001b[38;5;241m.\u001b[39mpop(\u001b[38;5;241m0\u001b[39m), \u001b[38;5;241m*\u001b[39m\u001b[38;5;241m*\u001b[39mkwargs)\n\u001b[1;32m    402\u001b[0m \u001b[38;5;28;01mfor\u001b[39;00m g, c \u001b[38;5;129;01min\u001b[39;00m \u001b[38;5;28mzip\u001b[39m(itergroup, colors):\n\u001b[1;32m    403\u001b[0m     plot_on_average(\u001b[38;5;28mself\u001b[39m\u001b[38;5;241m.\u001b[39msubjects, picks\u001b[38;5;241m=\u001b[39mg, color\u001b[38;5;241m=\u001b[39mc, \u001b[38;5;241m*\u001b[39m\u001b[38;5;241m*\u001b[39mkwargs)\n",
      "File \u001b[0;32m/opt/anaconda3/envs/analysis2/lib/python3.12/site-packages/ieeg/viz/mri.py:329\u001b[0m, in \u001b[0;36mplot_on_average\u001b[0;34m(sigs, subj_dir, rm_wm, picks, surface, hemi, color, size, fig, label_every, background, units, transparency, average, show)\u001b[0m\n\u001b[1;32m    327\u001b[0m subj_dir \u001b[38;5;241m=\u001b[39m get_sub_dir(subj_dir)\n\u001b[1;32m    328\u001b[0m \u001b[38;5;28;01mif\u001b[39;00m fig \u001b[38;5;129;01mis\u001b[39;00m \u001b[38;5;28;01mNone\u001b[39;00m:\n\u001b[0;32m--> 329\u001b[0m     fig \u001b[38;5;241m=\u001b[39m Brain(average, subjects_dir\u001b[38;5;241m=\u001b[39msubj_dir, cortex\u001b[38;5;241m=\u001b[39m\u001b[38;5;124m'\u001b[39m\u001b[38;5;124mlow_contrast\u001b[39m\u001b[38;5;124m'\u001b[39m,\n\u001b[1;32m    330\u001b[0m                 alpha\u001b[38;5;241m=\u001b[39mtransparency, background\u001b[38;5;241m=\u001b[39mbackground, surf\u001b[38;5;241m=\u001b[39msurface,\n\u001b[1;32m    331\u001b[0m                 hemi\u001b[38;5;241m=\u001b[39mhemi, units\u001b[38;5;241m=\u001b[39munits, show\u001b[38;5;241m=\u001b[39mshow)\n\u001b[1;32m    333\u001b[0m \u001b[38;5;28;01mif\u001b[39;00m \u001b[38;5;28misinstance\u001b[39m(sigs, (Signal, mne\u001b[38;5;241m.\u001b[39mInfo)):\n\u001b[1;32m    334\u001b[0m     sigs \u001b[38;5;241m=\u001b[39m [sigs]\n",
      "File \u001b[0;32m/opt/anaconda3/envs/analysis2/lib/python3.12/site-packages/mne/viz/_brain/_brain.py:429\u001b[0m, in \u001b[0;36mBrain.__init__\u001b[0;34m(***failed resolving arguments***)\u001b[0m\n\u001b[1;32m    427\u001b[0m     \u001b[38;5;28;01mcontinue\u001b[39;00m  \u001b[38;5;66;03m# don't make surface if not chosen\u001b[39;00m\n\u001b[1;32m    428\u001b[0m \u001b[38;5;66;03m# Initialize a Surface object as the geometry\u001b[39;00m\n\u001b[0;32m--> 429\u001b[0m geo \u001b[38;5;241m=\u001b[39m _Surface(\n\u001b[1;32m    430\u001b[0m     \u001b[38;5;28mself\u001b[39m\u001b[38;5;241m.\u001b[39m_subject,\n\u001b[1;32m    431\u001b[0m     h,\n\u001b[1;32m    432\u001b[0m     surf,\n\u001b[1;32m    433\u001b[0m     \u001b[38;5;28mself\u001b[39m\u001b[38;5;241m.\u001b[39m_subjects_dir,\n\u001b[1;32m    434\u001b[0m     offset,\n\u001b[1;32m    435\u001b[0m     units\u001b[38;5;241m=\u001b[39m\u001b[38;5;28mself\u001b[39m\u001b[38;5;241m.\u001b[39m_units,\n\u001b[1;32m    436\u001b[0m     x_dir\u001b[38;5;241m=\u001b[39m\u001b[38;5;28mself\u001b[39m\u001b[38;5;241m.\u001b[39m_rigid[\u001b[38;5;241m0\u001b[39m, :\u001b[38;5;241m3\u001b[39m],\n\u001b[1;32m    437\u001b[0m )\n\u001b[1;32m    438\u001b[0m \u001b[38;5;66;03m# Load in the geometry and curvature\u001b[39;00m\n\u001b[1;32m    439\u001b[0m geo\u001b[38;5;241m.\u001b[39mload_geometry()\n",
      "File \u001b[0;32m/opt/anaconda3/envs/analysis2/lib/python3.12/site-packages/mne/viz/_brain/surface.py:97\u001b[0m, in \u001b[0;36m_Surface.__init__\u001b[0;34m(self, subject, hemi, surf, subjects_dir, offset, units, x_dir)\u001b[0m\n\u001b[1;32m     94\u001b[0m \u001b[38;5;28mself\u001b[39m\u001b[38;5;241m.\u001b[39mlabels \u001b[38;5;241m=\u001b[39m \u001b[38;5;28mdict\u001b[39m()\n\u001b[1;32m     95\u001b[0m \u001b[38;5;28mself\u001b[39m\u001b[38;5;241m.\u001b[39mx_dir \u001b[38;5;241m=\u001b[39m x_dir\n\u001b[0;32m---> 97\u001b[0m subjects_dir \u001b[38;5;241m=\u001b[39m \u001b[38;5;28mstr\u001b[39m(get_subjects_dir(subjects_dir, raise_error\u001b[38;5;241m=\u001b[39m\u001b[38;5;28;01mTrue\u001b[39;00m))\n\u001b[1;32m     98\u001b[0m \u001b[38;5;28mself\u001b[39m\u001b[38;5;241m.\u001b[39mdata_path \u001b[38;5;241m=\u001b[39m path\u001b[38;5;241m.\u001b[39mjoin(subjects_dir, subject)\n\u001b[1;32m     99\u001b[0m \u001b[38;5;28;01mif\u001b[39;00m surf \u001b[38;5;241m==\u001b[39m \u001b[38;5;124m\"\u001b[39m\u001b[38;5;124mseghead\u001b[39m\u001b[38;5;124m\"\u001b[39m:\n",
      "File \u001b[0;32m/opt/anaconda3/envs/analysis2/lib/python3.12/site-packages/mne/utils/config.py:478\u001b[0m, in \u001b[0;36mget_subjects_dir\u001b[0;34m(subjects_dir, raise_error)\u001b[0m\n\u001b[1;32m    475\u001b[0m \u001b[38;5;28;01mif\u001b[39;00m subjects_dir \u001b[38;5;129;01mis\u001b[39;00m \u001b[38;5;129;01mnot\u001b[39;00m \u001b[38;5;28;01mNone\u001b[39;00m:\n\u001b[1;32m    476\u001b[0m     \u001b[38;5;66;03m# Emit a nice error or warning if their config is bad\u001b[39;00m\n\u001b[1;32m    477\u001b[0m     \u001b[38;5;28;01mtry\u001b[39;00m:\n\u001b[0;32m--> 478\u001b[0m         subjects_dir \u001b[38;5;241m=\u001b[39m _check_fname(\n\u001b[1;32m    479\u001b[0m             fname\u001b[38;5;241m=\u001b[39msubjects_dir,\n\u001b[1;32m    480\u001b[0m             overwrite\u001b[38;5;241m=\u001b[39m\u001b[38;5;124m\"\u001b[39m\u001b[38;5;124mread\u001b[39m\u001b[38;5;124m\"\u001b[39m,\n\u001b[1;32m    481\u001b[0m             must_exist\u001b[38;5;241m=\u001b[39m\u001b[38;5;28;01mTrue\u001b[39;00m,\n\u001b[1;32m    482\u001b[0m             need_dir\u001b[38;5;241m=\u001b[39m\u001b[38;5;28;01mTrue\u001b[39;00m,\n\u001b[1;32m    483\u001b[0m             name\u001b[38;5;241m=\u001b[39m\u001b[38;5;124m\"\u001b[39m\u001b[38;5;124msubjects_dir\u001b[39m\u001b[38;5;124m\"\u001b[39m,\n\u001b[1;32m    484\u001b[0m         )\n\u001b[1;32m    485\u001b[0m     \u001b[38;5;28;01mexcept\u001b[39;00m \u001b[38;5;167;01mFileNotFoundError\u001b[39;00m:\n\u001b[1;32m    486\u001b[0m         \u001b[38;5;28;01mif\u001b[39;00m from_config:\n",
      "File \u001b[0;32m<decorator-gen-0>:12\u001b[0m, in \u001b[0;36m_check_fname\u001b[0;34m(fname, overwrite, must_exist, name, need_dir, check_bids_split, verbose)\u001b[0m\n",
      "File \u001b[0;32m/opt/anaconda3/envs/analysis2/lib/python3.12/site-packages/mne/utils/check.py:274\u001b[0m, in \u001b[0;36m_check_fname\u001b[0;34m(fname, overwrite, must_exist, name, need_dir, check_bids_split, verbose)\u001b[0m\n\u001b[1;32m    272\u001b[0m             \u001b[38;5;28;01mraise\u001b[39;00m \u001b[38;5;167;01mPermissionError\u001b[39;00m(\u001b[38;5;124mf\u001b[39m\u001b[38;5;124m\"\u001b[39m\u001b[38;5;132;01m{\u001b[39;00mname\u001b[38;5;132;01m}\u001b[39;00m\u001b[38;5;124m does not have read permissions: \u001b[39m\u001b[38;5;132;01m{\u001b[39;00mfname\u001b[38;5;132;01m}\u001b[39;00m\u001b[38;5;124m\"\u001b[39m)\n\u001b[1;32m    273\u001b[0m \u001b[38;5;28;01melif\u001b[39;00m must_exist:\n\u001b[0;32m--> 274\u001b[0m     \u001b[38;5;28;01mraise\u001b[39;00m \u001b[38;5;167;01mFileNotFoundError\u001b[39;00m(\u001b[38;5;124mf\u001b[39m\u001b[38;5;124m'\u001b[39m\u001b[38;5;132;01m{\u001b[39;00mname\u001b[38;5;132;01m}\u001b[39;00m\u001b[38;5;124m does not exist: \u001b[39m\u001b[38;5;124m\"\u001b[39m\u001b[38;5;132;01m{\u001b[39;00mfname\u001b[38;5;132;01m}\u001b[39;00m\u001b[38;5;124m\"\u001b[39m\u001b[38;5;124m'\u001b[39m)\n\u001b[1;32m    276\u001b[0m \u001b[38;5;28;01mreturn\u001b[39;00m fname\n",
      "\u001b[0;31mFileNotFoundError\u001b[0m: subjects_dir does not exist: \"/Users/yuchaowang/Box/ECoG_Recon\""
     ]
    }
   ],
   "source": [
    "print(sub.keys.get('channels'))\n",
    "\n",
    "sub.plot_groups_on_average(idxs)\n",
    "fig.show()\n",
    "\n",
    "# List of Sentence Rep channels sent to Kumar for hippocampal index\n",
    "#channels = pd.DataFrame(sub.keys.get('channels'))\n",
    "#channels.to_csv('sentencerep_channels.csv', index=True, header=True)\n"
   ]
  },
  {
   "cell_type": "code",
   "execution_count": 5,
   "id": "e916d2786f282203",
   "metadata": {},
   "outputs": [
    {
     "name": "stderr",
     "output_type": "stream",
     "text": [
      "[Parallel(n_jobs=-2)]: Using backend LokyBackend with 7 concurrent workers.\n"
     ]
    },
    {
     "name": "stdout",
     "output_type": "stream",
     "text": [
      "\n",
      "WARNING: statsmodels is not installed. You will be unable to use the Naive Bayes Decoder\n",
      "\n",
      "WARNING: statsmodels is not installed. You will be unable to use the Naive Bayes Decoder\n",
      "\n",
      "WARNING: statsmodels is not installed. You will be unable to use the Naive Bayes Decoder\n",
      "\n",
      "WARNING: sklearnex is not installed. You will be unable to use thePCA decoder acceleration\n",
      "\n",
      "WARNING: statsmodels is not installed. You will be unable to use the Naive Bayes Decoder\n",
      "\n",
      "WARNING: sklearnex is not installed. You will be unable to use thePCA decoder acceleration\n",
      "\n",
      "WARNING: sklearnex is not installed. You will be unable to use thePCA decoder acceleration\n",
      "\n",
      "WARNING: Xgboost package is not installed. You will be unable touse the xgboost decoder\n",
      "\n",
      "WARNING: sklearnex is not installed. You will be unable to use thePCA decoder acceleration\n",
      "\n",
      "WARNING: Xgboost package is not installed. You will be unable touse the xgboost decoder\n",
      "\n",
      "WARNING: Xgboost package is not installed. You will be unable touse the xgboost decoder\n",
      "\n",
      "WARNING: Keras package is not installed. You will be unable to useall neural net decoders\n",
      "\n",
      "WARNING: Xgboost package is not installed. You will be unable touse the xgboost decoder\n",
      "\n",
      "WARNING: Keras package is not installed. You will be unable to useall neural net decoders\n",
      "\n",
      "WARNING: Keras package is not installed. You will be unable to useall neural net decoders\n",
      "\n",
      "WARNING: Keras package is not installed. You will be unable to useall neural net decoders\n",
      "\n",
      "WARNING: statsmodels is not installed. You will be unable to use the Naive Bayes Decoder\n",
      "\n",
      "WARNING: sklearnex is not installed. You will be unable to use thePCA decoder acceleration\n",
      "\n",
      "WARNING: Xgboost package is not installed. You will be unable touse the xgboost decoder\n",
      "\n",
      "WARNING: Keras package is not installed. You will be unable to useall neural net decoders\n"
     ]
    },
    {
     "name": "stderr",
     "output_type": "stream",
     "text": [
      "[Parallel(n_jobs=-2)]: Done   1 tasks      | elapsed:   32.7s\n",
      "[Parallel(n_jobs=-2)]: Done   2 out of   5 | elapsed:   32.7s remaining:   49.1s\n",
      "[Parallel(n_jobs=-2)]: Done   3 out of   5 | elapsed:   33.1s remaining:   22.1s\n"
     ]
    },
    {
     "name": "stdout",
     "output_type": "stream",
     "text": [
      "Auditory-aud_ls-aud_lm\n"
     ]
    },
    {
     "name": "stderr",
     "output_type": "stream",
     "text": [
      "[Parallel(n_jobs=-2)]: Done   5 out of   5 | elapsed:   33.3s finished\n"
     ]
    }
   ],
   "source": [
    "# %% Time Sliding decoding for word tokens\n",
    "scores = score({'heat': 1, 'hoot': 2, 'hot': 3, 'hut': 4}, 0.8, 'lda', 5, 1, sub, idxs, conds,\n",
    "                            window_kwargs, scores,\n",
    "                            shuffle=False)\n",
    "dict_to_structured_array(scores, 'true_scores.npy')\n",
    "\n"
   ]
  },
  {
   "cell_type": "code",
   "execution_count": 13,
   "id": "6bf4ce5febb62a65",
   "metadata": {},
   "outputs": [],
   "source": [
    "# %% Plotting\n",
    "data_dir = ''\n",
    "true_scores = np.load(data_dir + 'true_scores.npy', allow_pickle=True)[0]\n",
    "true_scores = {name: true_scores[name] for name in true_scores.dtype.names}\n",
    "\n",
    "\n",
    "plots = {}\n",
    "for key, values in scores.items():\n",
    "    if values is None:\n",
    "        continue\n",
    "    plots[key] = np.mean(values.T[np.eye(4).astype(bool)].T, axis=2)\n",
    "fig, axs = plot_all_scores(plots, conds, {n: i for n, i in zip(names, idxs)}, colors, \"Word Decoding\")\n",
    "\n",
    "for ax in fig.axes:\n",
    "    ax.axhline(0.25, color='k', linestyle='--')\n",
    "\n",
    "fig.show()\n"
   ]
  },
  {
   "cell_type": "code",
   "execution_count": 24,
   "id": "b0b6b72c",
   "metadata": {},
   "outputs": [
    {
     "name": "stdout",
     "output_type": "stream",
     "text": [
      "30\n"
     ]
    }
   ],
   "source": [
    "class Person:\n",
    "    def __init__(self, name, age):\n",
    "        self.__name = name  # Private attribute\n",
    "        self.__age = age    # Private attribute\n",
    "\n",
    "    @property\n",
    "    def get_name(self):\n",
    "        return self.__name  # Getter method\n",
    "\n",
    "    def set_name(self, name):\n",
    "        self.__name = name  # Setter method\n",
    "\n",
    "    def get_age(self):\n",
    "        return self.__age  # Getter method\n",
    "\n",
    "    def set_age(self, age):\n",
    "        if age > 0:\n",
    "            self.__age = age  # Setter method with validation\n",
    "\n",
    "person = Person(\"Alice\", 30)\n",
    "print(person.get_age())  # Alice\n",
    "\n"
   ]
  },
  {
   "cell_type": "code",
   "execution_count": null,
   "id": "b88cfcc6",
   "metadata": {},
   "outputs": [],
   "source": []
  },
  {
   "cell_type": "code",
   "execution_count": null,
   "id": "49378fc7",
   "metadata": {},
   "outputs": [],
   "source": []
  }
 ],
 "metadata": {
  "kernelspec": {
   "display_name": "Python 3",
   "language": "python",
   "name": "python3"
  },
  "language_info": {
   "codemirror_mode": {
    "name": "ipython",
    "version": 3
   },
   "file_extension": ".py",
   "mimetype": "text/x-python",
   "name": "python",
   "nbconvert_exporter": "python",
   "pygments_lexer": "ipython3",
   "version": "3.12.4"
  }
 },
 "nbformat": 4,
 "nbformat_minor": 5
}
