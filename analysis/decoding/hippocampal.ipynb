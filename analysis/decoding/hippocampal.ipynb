{
 "cells": [
  {
   "cell_type": "code",
   "execution_count": 1,
   "id": "initial_id",
   "metadata": {
    "ExecuteTime": {
     "end_time": "2024-09-14T01:19:05.033159Z",
     "start_time": "2024-09-14T01:19:04.876324Z"
    }
   },
   "outputs": [
    {
     "name": "stdout",
     "output_type": "stream",
     "text": [
      "Python 3.12.5 | packaged by Anaconda, Inc. | (main, Sep 12 2024, 13:22:57) [Clang 14.0.6 ] on darwin\n",
      "\n",
      "WARNING: statsmodels is not installed. You will be unable to use the Naive Bayes Decoder\n",
      "\n",
      "WARNING: sklearnex is not installed. You will be unable to use thePCA decoder acceleration\n",
      "\n",
      "WARNING: Xgboost package is not installed. You will be unable touse the xgboost decoder\n",
      "\n",
      "WARNING: Keras package is not installed. You will be unable to useall neural net decoders\n"
     ]
    }
   ],
   "source": [
    "# Decoding script, takes a GroupData set and uses Linear Discriminant Analysis\n",
    "# to decode trial conditions or word tokens from neural data\n",
    "\n",
    "import numpy as np\n",
    "import os\n",
    "import pandas as pd\n",
    "\n",
    "# import matplotlib\n",
    "# matplotlib.use('notebook')\n",
    "import sys; print('Python %s on %s' % (sys.version, sys.platform))\n",
    "sys.path.extend(['/Users/yuchaowang/Documents/git/SentenceRep_analysis'])\n",
    "sys.path.extend(['/Users/yuchaowang/Documents/git/IEEG_Pipelines'])\n",
    "from analysis.grouping import GroupData\n",
    "from analysis.decoding import plot_all_scores\n",
    "from analysis.decoding.words import score, dict_to_structured_array\n",
    "box = os.path.expanduser(os.path.join(\"~\", \"Library\", \"CloudStorage\", \"Box-Box\"))\n",
    "fpath = os.path.join(box, \"CoganLab\")\n",
    "subjects_dir = os.path.join(box, \"ECoG_Recon\")"
   ]
  },
  {
   "cell_type": "code",
   "execution_count": 2,
   "id": "40015d7d",
   "metadata": {},
   "outputs": [
    {
     "name": "stderr",
     "output_type": "stream",
     "text": [
      "Loading significance: 100%|██████████| 34/34 [00:01<00:00, 17.26it/s]\n",
      "Loading power: 100%|██████████| 34/34 [00:10<00:00,  3.34it/s]\n",
      "Loading zscore: 100%|██████████| 34/34 [00:10<00:00,  3.34it/s]\n",
      "Loading pval: 100%|██████████| 34/34 [00:01<00:00, 17.49it/s]\n"
     ]
    }
   ],
   "source": [
    "# %% Imports for total GroupData\n",
    "\n",
    "sub = GroupData.from_intermediates(\n",
    "    \"SentenceRep\", fpath, folder='stats', subjects_dir=subjects_dir)\n",
    "all_data = []\n",
    "colors = [[0, 1, 0], [1, 0, 0], [0, 0, 1], [0.5, 0.5, 0.5]]\n",
    "scores = {'Auditory': None, 'Sensory-Motor': None, 'Production': None, 'All': None}\n",
    "scores2 = {'Auditory': None, 'Sensory-Motor': None, 'Production': None, 'All': None}\n",
    "idxs = [sub.AUD, sub.SM, sub.PROD, sub.sig_chans]\n",
    "idxs = [list(idx) for idx in idxs]\n",
    "names = list(scores.keys())\n",
    "conds = [['aud_ls', 'aud_lm'], ['go_ls', 'go_lm'], 'resp']\n",
    "window_kwargs = {'window': 20, 'obs_axs': 1, 'normalize': 'true', 'n_jobs': -2,\n",
    "                'average_repetitions': False}"
   ]
  },
  {
   "cell_type": "code",
   "execution_count": 3,
   "id": "359f3ce4",
   "metadata": {},
   "outputs": [],
   "source": [
    "import pickle\n",
    "\n",
    "sub_channels = sub.keys.get('channel',[])\n",
    "with open('sub_channel.pkl', 'wb') as f:\n",
    "    pickle.dump(sub_channels, f)\n",
    "\n",
    "\n",
    "def sep_sub_ch(sub_ch:str):\n",
    "    \"\"\"\n",
    "    Input: subject_channel string \n",
    "    Output: separates into subject number and channel\n",
    "    \"\"\"\n",
    "    sub = sub_ch.split('-')[0]\n",
    "    sub_num = sub.lstrip('D0')\n",
    "    ch = sub_ch.split('-')[1]\n",
    "    return sub_num, ch\n",
    "\n",
    "def regen_ch_label(sub_ch: str, sub_dir: str):\n",
    "    \"\"\"\n",
    "    Input: full subj_channel name \n",
    "    Output: ROI label using Brainnectome atlas with radius 10mm\n",
    "    \"\"\"\n",
    "    from ieeg.viz import mri\n",
    "    sub_num, ch = sep_sub_ch(sub_ch)\n",
    "    info = mri.subject_to_info(f\"D{sub_num}\", sub_dir)\n",
    "    labels = mri.gen_labels(info, sub=f\"D{sub_num}\", subj_dir=sub_dir,\n",
    "                    atlas=\".BN_atlas\") \n",
    "    ch_label = labels[ch]\n",
    "    return ch_label\n",
    "\n",
    "def get_ch_label(channels, sub_dir): \n",
    "    \"\"\"\n",
    "    Input: list of channels \n",
    "    Output: list of atlas labels \n",
    "    \"\"\"\n",
    "    channel_label = []\n",
    "    for sub_ch in channels: \n",
    "        channel_label.append(regen_ch_label(sub_ch, sub_dir))\n",
    "    return channel_label\n",
    "\n",
    "\n",
    "channel_label = get_ch_label(sub_channels, subjects_dir) \n",
    "\n",
    "with open('channel_label.pkl', 'wb') as f:\n",
    "    pickle.dump(channel_label, f)\n",
    "\n",
    "#ch_roi = regen_ch_label('D0102-RTPI5', subjects_dir)\n",
    "\n",
    "#print(sub_channels.find('D0102-RTPI5'))"
   ]
  },
  {
   "cell_type": "code",
   "execution_count": 3,
   "id": "0dccdc0f",
   "metadata": {},
   "outputs": [],
   "source": [
    "import pickle\n",
    "\n",
    "with open('sub_channel.pkl', 'rb') as f:\n",
    "    sub_channels = pickle.load(f)\n",
    "with open('channel_label.pkl', 'rb') as f:\n",
    "    channel_label = pickle.load(f)\n",
    "\n",
    "\n",
    "\n",
    "idxs_hipp = [index for index, item in enumerate(channel_label) if 'Hipp' in item]\n",
    "\n",
    "idxs_thal = [index for index, item in enumerate(channel_label) if 'tha' in item]\n",
    "\n",
    "\n"
   ]
  },
  {
   "cell_type": "code",
   "execution_count": 4,
   "id": "054a827d",
   "metadata": {},
   "outputs": [],
   "source": [
    "\n",
    "idxs_hippandsig = list(set(sub.sig_chans) & set(idxs_hipp))\n",
    "#sub.plot_groups_on_average([idxs_hippandsig])\n",
    "#sub.plot_groups_on_average([idxs_thal])\n"
   ]
  },
  {
   "cell_type": "code",
   "execution_count": null,
   "id": "a8b220fe",
   "metadata": {},
   "outputs": [],
   "source": [
    "sub.plot_groups_on_average([range(3792)])"
   ]
  },
  {
   "cell_type": "code",
   "execution_count": null,
   "id": "97c4b4fe",
   "metadata": {},
   "outputs": [],
   "source": [
    "# List of Sentence Rep channels sent to Kumar for hippocampal index\n",
    "#channels = pd.DataFrame(sub.keys.get('channels'))\n",
    "#channels.to_csv('sentencerep_channels.csv', index=True, header=True)\n"
   ]
  },
  {
   "cell_type": "code",
   "execution_count": null,
   "id": "e916d2786f282203",
   "metadata": {},
   "outputs": [],
   "source": [
    "# %% Time Sliding decoding for word tokens\n",
    "scores = score({'heat': 1, 'hoot': 2, 'hot': 3, 'hut': 4}, 0.8, 'lda', 5, 10, sub, [idxs_hipp], conds,\n",
    "                            window_kwargs, scores,\n",
    "                            shuffle=False)\n",
    "dict_to_structured_array(scores, 'true_scores_hipp.npy')\n",
    "out_scores = scores.copy()\n",
    "# scores2 = score({'heat': 1, 'hoot': 2, 'hot': 3, 'hut': 4},\n",
    "#                                 0.8, 'lda', 5, 250, sub, idxs, conds,\n",
    "#                                 window_kwargs, scores2,\n",
    "#                                 shuffle=True)\n",
    "# dict_to_structured_array(scores2, 'shuffle_score.npy')"
   ]
  },
  {
   "cell_type": "code",
   "execution_count": null,
   "id": "6bf4ce5febb62a65",
   "metadata": {},
   "outputs": [],
   "source": [
    "# %% Plotting\n",
    "data_dir = ''\n",
    "\n",
    "scores = np.load(data_dir + 'true_scores_hipp.npy', allow_pickle=True)[0]\n",
    "scores = {name: scores[name] for name in scores.dtype.names}\n",
    "\n",
    "\n",
    "# plots = {}\n",
    "# for key, values in scores2.items():\n",
    "#     if values is None:\n",
    "#         continue\n",
    "#     plots[key] = np.mean(values.T[np.eye(4).astype(bool)].T, axis=2)\n",
    "# fig, axs = plot_all_scores(plots, conds, {n: i for n, i in zip(names, idxs_hipp)}, colors, \"Word Decoding\")\n",
    "\n",
    "# for ax in fig.axes:\n",
    "#     ax.axhline(0.25, color='k', linestyle='--')\n",
    "\n",
    "plots = {}\n",
    "for key, values in scores.items():\n",
    "    if values is None:\n",
    "        continue\n",
    "    plots[key] = np.mean(values.T[np.eye(4).astype(bool)].T, axis=2)\n",
    "fig, axs = plot_all_scores(plots, conds, {n: i for n, i in zip(names, idxs)}, colors, \"Word Decoding\")\n",
    "\n",
    "for ax in fig.axes:\n",
    "    ax.axhline(0.25, color='k', linestyle='--')\n",
    "\n",
    "# # %% Time Sliding decoding significance\n",
    "\n",
    "# shuffle_score = np.load(data_dir + 'shuffle_score_short.npy', allow_pickle=True)[0]\n",
    "# shuffle_score = {name: shuffle_score[name] for name in shuffle_score.dtype.names}\n",
    "# signif = {}\n",
    "# for cond, score in scores.items():\n",
    "#     true = np.mean(score.T[np.eye(4).astype(bool)].T, axis=2)\n",
    "#     shuffle = np.mean(shuffle_score[cond].T[np.eye(4).astype(bool)].T, axis=2)\n",
    "#     signif[cond] = time_perm_cluster(true.T, shuffle.T, 0.001, stat_func=lambda x, y, axis: np.mean(x, axis=axis))\n",
    "\n",
    "# %% Plot significance\n",
    "# for cond, ax in zip(conds, axs):\n",
    "#     bars = []\n",
    "#     if isinstance(cond, list):\n",
    "#         cond = \"-\".join(cond)\n",
    "#     for i, idx in enumerate(idxs):\n",
    "#         name = \"-\".join([names[i], cond])\n",
    "#         if name.endswith('resp'):\n",
    "#             times = (-1, 1)\n",
    "#         else:\n",
    "#             times = (-0.5, 1.5)\n",
    "#         shuffle = np.mean(shuffle_score[name].T[np.eye(4).astype(bool)].T, axis=2)\n",
    "#         # smooth the shuffle using a window\n",
    "#         window = np.lib.stride_tricks.sliding_window_view(shuffle, 20, 0)\n",
    "#         shuffle = np.mean(window, axis=-1)\n",
    "#         plot_dist_bound(shuffle, 'std', 'both', times, 0, ax=ax, color=colors[i], alpha=0.3)\n",
    "#         bars.append(signif[name])\n",
    "#     plot_horizontal_bars(ax, bars, 0.05, 'below')\n",
    "\n",
    "\n",
    "fig.show()\n"
   ]
  },
  {
   "cell_type": "code",
   "execution_count": null,
   "id": "0afc56ca",
   "metadata": {},
   "outputs": [],
   "source": [
    "from ieeg.viz.ensemble import plot_dist\n",
    "data = sub.array['zscore','aud_ls'].combine((0, 2))\n",
    "plot_dist(data.__array__())"
   ]
  },
  {
   "cell_type": "code",
   "execution_count": null,
   "id": "b0b6b72c",
   "metadata": {},
   "outputs": [],
   "source": [
    "class Person:\n",
    "    def __init__(self, name, age):\n",
    "        self.__name = name  # Private attribute\n",
    "        self.__age = age    # Private attribute\n",
    "\n",
    "    @property\n",
    "    def get_name(self):\n",
    "        return self.__name  # Getter method\n",
    "\n",
    "    def set_name(self, name):\n",
    "        self.__name = name  # Setter method\n",
    "\n",
    "    def get_age(self):\n",
    "        return self.__age  # Getter method\n",
    "\n",
    "    def set_age(self, age):\n",
    "        if age > 0:\n",
    "            self.__age = age  # Setter method with validation\n",
    "\n",
    "person = Person(\"Alice\", 30)\n",
    "print(person.get_age())  # Alice\n",
    "\n"
   ]
  },
  {
   "cell_type": "code",
   "execution_count": null,
   "id": "b88cfcc6",
   "metadata": {},
   "outputs": [],
   "source": []
  },
  {
   "cell_type": "code",
   "execution_count": null,
   "id": "49378fc7",
   "metadata": {},
   "outputs": [],
   "source": []
  }
 ],
 "metadata": {
  "kernelspec": {
   "display_name": "base2",
   "language": "python",
   "name": "python3"
  },
  "language_info": {
   "codemirror_mode": {
    "name": "ipython",
    "version": 3
   },
   "file_extension": ".py",
   "mimetype": "text/x-python",
   "name": "python",
   "nbconvert_exporter": "python",
   "pygments_lexer": "ipython3",
   "version": "3.12.5"
  }
 },
 "nbformat": 4,
 "nbformat_minor": 5
}
