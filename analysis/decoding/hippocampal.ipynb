{
 "cells": [
  {
   "cell_type": "code",
   "id": "initial_id",
   "metadata": {
    "collapsed": true,
    "ExecuteTime": {
     "end_time": "2024-09-05T19:20:33.917553Z",
     "start_time": "2024-09-05T19:20:26.343607Z"
    }
   },
   "source": [
    "# Decoding script, takes a GroupData set and uses Linear Discriminant Analysis\n",
    "# to decode trial conditions or word tokens from neural data\n",
    "\n",
    "import numpy as np\n",
    "import os\n",
    "\n",
    "# import matplotlib\n",
    "# matplotlib.use('notebook')\n",
    "import sys; print('Python %s on %s' % (sys.version, sys.platform))\n",
    "sys.path.extend(['C:\\\\Users\\\\ae166\\\\git\\\\SentenceRep_analysis'])\n",
    "from analysis.grouping import GroupData\n",
    "from analysis.decoding import plot_all_scores\n",
    "from analysis.decoding.words import score, dict_to_structured_array"
   ],
   "outputs": [
    {
     "name": "stdout",
     "output_type": "stream",
     "text": [
      "\n",
      "WARNING: statsmodels is not installed. You will be unable to use the Naive Bayes Decoder\n",
      "\n",
      "WARNING: sklearnex is not installed. You will be unable to use thePCA decoder acceleration\n",
      "\n",
      "WARNING: Xgboost package is not installed. You will be unable touse the xgboost decoder\n",
      "\n",
      "WARNING: Keras package is not installed. You will be unable to useall neural net decoders\n"
     ]
    }
   ],
   "execution_count": 1
  },
  {
   "metadata": {
    "jupyter": {
     "is_executing": true
    },
    "ExecuteTime": {
     "start_time": "2024-09-05T19:20:34.026940Z"
    }
   },
   "cell_type": "code",
   "source": [
    "# %% Imports\n",
    "box = os.path.expanduser(os.path.join(\"~\",\"Box\"))\n",
    "fpath = os.path.join(box, \"CoganLab\")\n",
    "subjects_dir = os.path.join(box, \"ECoG_Recon\")\n",
    "sub = GroupData.from_intermediates(\n",
    "    \"SentenceRep\", fpath, folder='stats', subjects_dir=subjects_dir)\n",
    "all_data = []\n",
    "colors = [[0, 1, 0]]\n",
    "scores = {'Auditory': None}\n",
    "idxs = [sub.AUD]\n",
    "idxs = [list(idx) for idx in idxs]\n",
    "names = list(scores.keys())\n",
    "conds = [['aud_ls', 'aud_lm']]\n",
    "window_kwargs = {'window': 20, 'obs_axs': 1, 'normalize': 'true', 'n_jobs': -2,\n",
    "                'average_repetitions': False}\n",
    "\n"
   ],
   "id": "ca6774fde3b10957",
   "outputs": [
    {
     "name": "stderr",
     "output_type": "stream",
     "text": [
      "Loading significance: 100%|██████████| 34/34 [00:07<00:00,  4.84it/s]\n",
      "Loading power: 100%|██████████| 34/34 [00:26<00:00,  1.28it/s]\n",
      "Loading zscore:   6%|▌         | 2/34 [00:00<00:15,  2.08it/s]"
     ]
    }
   ],
   "execution_count": null
  },
  {
   "metadata": {},
   "cell_type": "code",
   "outputs": [],
   "execution_count": null,
   "source": [
    "# %% Time Sliding decoding for word tokens\n",
    "scores = score({'heat': 1, 'hoot': 2, 'hot': 3, 'hut': 4}, 0.8, 'lda', 5, 1, sub, idxs, conds,\n",
    "                            window_kwargs, scores,\n",
    "                            shuffle=False)\n",
    "dict_to_structured_array(scores, 'true_scores.npy')\n",
    "\n"
   ],
   "id": "e916d2786f282203"
  },
  {
   "metadata": {},
   "cell_type": "code",
   "outputs": [],
   "execution_count": null,
   "source": [
    "# %% Plotting\n",
    "data_dir = ''\n",
    "true_scores = np.load(data_dir + 'true_scores.npy', allow_pickle=True)[0]\n",
    "true_scores = {name: true_scores[name] for name in true_scores.dtype.names}\n",
    "\n",
    "plots = {}\n",
    "for key, values in scores.items():\n",
    "    if values is None:\n",
    "        continue\n",
    "    plots[key] = np.mean(values.T[np.eye(4).astype(bool)].T, axis=2)\n",
    "fig, axs = plot_all_scores(plots, conds, {n: i for n, i in zip(names, idxs)}, colors, \"Word Decoding\")\n",
    "\n",
    "for ax in fig.axes:\n",
    "    ax.axhline(0.25, color='k', linestyle='--')\n"
   ],
   "id": "6bf4ce5febb62a65"
  }
 ],
 "metadata": {
  "kernelspec": {
   "display_name": "Python 3",
   "language": "python",
   "name": "python3"
  },
  "language_info": {
   "codemirror_mode": {
    "name": "ipython",
    "version": 2
   },
   "file_extension": ".py",
   "mimetype": "text/x-python",
   "name": "python",
   "nbconvert_exporter": "python",
   "pygments_lexer": "ipython2",
   "version": "2.7.6"
  }
 },
 "nbformat": 4,
 "nbformat_minor": 5
}
