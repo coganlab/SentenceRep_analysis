{
 "cells": [
  {
   "cell_type": "code",
   "execution_count": 5,
   "metadata": {
    "collapsed": true,
    "ExecuteTime": {
     "start_time": "2023-04-25T20:07:59.178740Z",
     "end_time": "2023-04-25T20:07:59.184661Z"
    }
   },
   "outputs": [],
   "source": [
    "from ieeg.io import get_data, raw_from_layout\n",
    "from ieeg.viz.mri import plot_subj, plot_on_average, get_sub_dir\n",
    "from os import path\n",
    "import mne\n",
    "HOME = path.expanduser(\"~\")\n",
    "LAB_root = path.join(HOME, \"Box\", \"CoganLab\")\n",
    "# %% Set up logging\n",
    "log_filename = \"output.log\"\n",
    "# op.join(LAB_root, \"Aaron_test\", \"Information.log\")\n",
    "mne.set_log_file(log_filename,\n",
    "                 \"%(levelname)s: %(message)s - %(asctime)s\",\n",
    "                 overwrite=True)\n",
    "mne.set_log_level(\"INFO\")"
   ]
  },
  {
   "cell_type": "code",
   "execution_count": 2,
   "outputs": [
    {
     "name": "stderr",
     "output_type": "stream",
     "text": [
      "C:\\Users\\Jakda\\git\\SentenceRep_analysis\\IEEG_Pipelines\\ieeg\\io.py:97: RuntimeWarning: The number of channels in the channels.tsv sidecar file (141) does not match the number of channels in the raw data file (140). Will not try to set channel names.\n",
      "  new_raw = read_raw_bids(bids_path=BIDS_path)\n",
      "C:\\Users\\Jakda\\git\\SentenceRep_analysis\\IEEG_Pipelines\\ieeg\\io.py:97: RuntimeWarning: Cannot set channel type for the following channels, as they are missing in the raw data: Trigger\n",
      "  new_raw = read_raw_bids(bids_path=BIDS_path)\n",
      "C:\\Users\\Jakda\\git\\SentenceRep_analysis\\IEEG_Pipelines\\ieeg\\io.py:97: RuntimeWarning: Omitted 166 annotation(s) that were outside data range.\n",
      "  new_raw = read_raw_bids(bids_path=BIDS_path)\n",
      "C:\\Users\\Jakda\\git\\SentenceRep_analysis\\IEEG_Pipelines\\ieeg\\io.py:97: RuntimeWarning: The number of channels in the channels.tsv sidecar file (141) does not match the number of channels in the raw data file (140). Will not try to set channel names.\n",
      "  new_raw = read_raw_bids(bids_path=BIDS_path)\n",
      "C:\\Users\\Jakda\\git\\SentenceRep_analysis\\IEEG_Pipelines\\ieeg\\io.py:97: RuntimeWarning: Cannot set channel type for the following channels, as they are missing in the raw data: Trigger\n",
      "  new_raw = read_raw_bids(bids_path=BIDS_path)\n",
      "C:\\Users\\Jakda\\git\\SentenceRep_analysis\\IEEG_Pipelines\\ieeg\\io.py:97: RuntimeWarning: Omitted 166 annotation(s) that were outside data range.\n",
      "  new_raw = read_raw_bids(bids_path=BIDS_path)\n",
      "C:\\Users\\Jakda\\git\\SentenceRep_analysis\\IEEG_Pipelines\\ieeg\\io.py:97: RuntimeWarning: The number of channels in the channels.tsv sidecar file (141) does not match the number of channels in the raw data file (140). Will not try to set channel names.\n",
      "  new_raw = read_raw_bids(bids_path=BIDS_path)\n",
      "C:\\Users\\Jakda\\git\\SentenceRep_analysis\\IEEG_Pipelines\\ieeg\\io.py:97: RuntimeWarning: Cannot set channel type for the following channels, as they are missing in the raw data: Trigger\n",
      "  new_raw = read_raw_bids(bids_path=BIDS_path)\n",
      "C:\\Users\\Jakda\\git\\SentenceRep_analysis\\IEEG_Pipelines\\ieeg\\io.py:97: RuntimeWarning: Omitted 166 annotation(s) that were outside data range.\n",
      "  new_raw = read_raw_bids(bids_path=BIDS_path)\n",
      "C:\\Users\\Jakda\\git\\SentenceRep_analysis\\IEEG_Pipelines\\ieeg\\io.py:97: RuntimeWarning: The number of channels in the channels.tsv sidecar file (141) does not match the number of channels in the raw data file (140). Will not try to set channel names.\n",
      "  new_raw = read_raw_bids(bids_path=BIDS_path)\n",
      "C:\\Users\\Jakda\\git\\SentenceRep_analysis\\IEEG_Pipelines\\ieeg\\io.py:97: RuntimeWarning: Cannot set channel type for the following channels, as they are missing in the raw data: Trigger\n",
      "  new_raw = read_raw_bids(bids_path=BIDS_path)\n",
      "C:\\Users\\Jakda\\git\\SentenceRep_analysis\\IEEG_Pipelines\\ieeg\\io.py:97: RuntimeWarning: Omitted 164 annotation(s) that were outside data range.\n",
      "  new_raw = read_raw_bids(bids_path=BIDS_path)\n",
      "C:\\Users\\Jakda\\git\\SentenceRep_analysis\\IEEG_Pipelines\\ieeg\\io.py:97: RuntimeWarning: The number of channels in the channels.tsv sidecar file (141) does not match the number of channels in the raw data file (140). Will not try to set channel names.\n",
      "  new_raw = read_raw_bids(bids_path=BIDS_path)\n",
      "C:\\Users\\Jakda\\git\\SentenceRep_analysis\\IEEG_Pipelines\\ieeg\\io.py:97: RuntimeWarning: Cannot set channel type for the following channels, as they are missing in the raw data: Trigger\n",
      "  new_raw = read_raw_bids(bids_path=BIDS_path)\n"
     ]
    },
    {
     "data": {
      "text/plain": "<contextlib._GeneratorContextManager at 0x1f7a7b3e150>"
     },
     "execution_count": 2,
     "metadata": {},
     "output_type": "execute_result"
    }
   ],
   "source": [
    "TASK = \"SentenceRep\"\n",
    "sub_num = 29\n",
    "layout = get_data(TASK, root=LAB_root)\n",
    "subj_dir = path.join(LAB_root, \"ECoG_Recon_Full\")\n",
    "sub_pad = \"D00{}\".format(sub_num)\n",
    "sub = \"D{}\".format(sub_num)\n",
    "filt = raw_from_layout(layout.derivatives['clean'], subject=sub_pad,\n",
    "                       extension='.edf', desc='clean', preload=True)\n",
    "\n",
    "mne.viz.use_3d_backend('notebook')\n",
    "# %%"
   ],
   "metadata": {
    "collapsed": false,
    "ExecuteTime": {
     "start_time": "2023-04-25T20:05:01.498788Z",
     "end_time": "2023-04-25T20:05:23.034936Z"
    }
   }
  },
  {
   "cell_type": "code",
   "execution_count": 6,
   "outputs": [
    {
     "ename": "FileNotFoundError",
     "evalue": "subjects_dir does not exist: C:\\Users\\Jakda\\git\\SentenceRep_analysis\\D29",
     "output_type": "error",
     "traceback": [
      "\u001B[1;31m---------------------------------------------------------------------------\u001B[0m",
      "\u001B[1;31mFileNotFoundError\u001B[0m                         Traceback (most recent call last)",
      "Cell \u001B[1;32mIn[6], line 1\u001B[0m\n\u001B[1;32m----> 1\u001B[0m plot_on_average(filt, sub, get_sub_dir())\n",
      "File \u001B[1;32m~\\git\\SentenceRep_analysis\\IEEG_Pipelines\\ieeg\\viz\\mri.py:214\u001B[0m, in \u001B[0;36mplot_on_average\u001B[1;34m(sigs, subj_dir, surface)\u001B[0m\n\u001B[0;32m    212\u001B[0m \u001B[38;5;28;01mif\u001B[39;00m surface \u001B[38;5;129;01mis\u001B[39;00m \u001B[38;5;28;01mNone\u001B[39;00m:\n\u001B[0;32m    213\u001B[0m     surface \u001B[38;5;241m=\u001B[39m \u001B[38;5;124m'\u001B[39m\u001B[38;5;124mpial\u001B[39m\u001B[38;5;124m'\u001B[39m\n\u001B[1;32m--> 214\u001B[0m brain \u001B[38;5;241m=\u001B[39m mne\u001B[38;5;241m.\u001B[39mviz\u001B[38;5;241m.\u001B[39mBrain(\u001B[38;5;124m'\u001B[39m\u001B[38;5;124mfsaverage\u001B[39m\u001B[38;5;124m'\u001B[39m, subjects_dir\u001B[38;5;241m=\u001B[39msubj_dir,\n\u001B[0;32m    215\u001B[0m                       background\u001B[38;5;241m=\u001B[39m\u001B[38;5;124m'\u001B[39m\u001B[38;5;124mgrey\u001B[39m\u001B[38;5;124m'\u001B[39m, surf\u001B[38;5;241m=\u001B[39msurface)\n\u001B[0;32m    216\u001B[0m \u001B[38;5;28;01mfor\u001B[39;00m subj, inst \u001B[38;5;129;01min\u001B[39;00m sigs\u001B[38;5;241m.\u001B[39mitems():\n\u001B[0;32m    217\u001B[0m     new \u001B[38;5;241m=\u001B[39m inst\u001B[38;5;241m.\u001B[39mcopy()\n",
      "File \u001B[1;32m~\\anaconda3\\envs\\analysis\\Lib\\site-packages\\mne\\viz\\_brain\\_brain.py:282\u001B[0m, in \u001B[0;36mBrain.__init__\u001B[1;34m(***failed resolving arguments***)\u001B[0m\n\u001B[0;32m    279\u001B[0m     \u001B[38;5;28;01mraise\u001B[39;00m \u001B[38;5;167;01mValueError\u001B[39;00m(\u001B[38;5;124m'\u001B[39m\u001B[38;5;124m\"\u001B[39m\u001B[38;5;124msize\u001B[39m\u001B[38;5;124m\"\u001B[39m\u001B[38;5;124m parameter must be an int or length-2 \u001B[39m\u001B[38;5;124m'\u001B[39m\n\u001B[0;32m    280\u001B[0m                      \u001B[38;5;124m'\u001B[39m\u001B[38;5;124msequence of ints.\u001B[39m\u001B[38;5;124m'\u001B[39m)\n\u001B[0;32m    281\u001B[0m size \u001B[38;5;241m=\u001B[39m size \u001B[38;5;28;01mif\u001B[39;00m \u001B[38;5;28mlen\u001B[39m(size) \u001B[38;5;241m==\u001B[39m \u001B[38;5;241m2\u001B[39m \u001B[38;5;28;01melse\u001B[39;00m size \u001B[38;5;241m*\u001B[39m \u001B[38;5;241m2\u001B[39m  \u001B[38;5;66;03m# 1-tuple to 2-tuple\u001B[39;00m\n\u001B[1;32m--> 282\u001B[0m subjects_dir \u001B[38;5;241m=\u001B[39m get_subjects_dir(subjects_dir)\n\u001B[0;32m    284\u001B[0m \u001B[38;5;28mself\u001B[39m\u001B[38;5;241m.\u001B[39mtime_viewer \u001B[38;5;241m=\u001B[39m \u001B[38;5;28;01mFalse\u001B[39;00m\n\u001B[0;32m    285\u001B[0m \u001B[38;5;28mself\u001B[39m\u001B[38;5;241m.\u001B[39m_hash \u001B[38;5;241m=\u001B[39m time\u001B[38;5;241m.\u001B[39mtime_ns()\n",
      "File \u001B[1;32m~\\anaconda3\\envs\\analysis\\Lib\\site-packages\\mne\\utils\\config.py:381\u001B[0m, in \u001B[0;36mget_subjects_dir\u001B[1;34m(subjects_dir, raise_error)\u001B[0m\n\u001B[0;32m    379\u001B[0m     subjects_dir \u001B[38;5;241m=\u001B[39m get_config(\u001B[38;5;124m'\u001B[39m\u001B[38;5;124mSUBJECTS_DIR\u001B[39m\u001B[38;5;124m'\u001B[39m, raise_error\u001B[38;5;241m=\u001B[39mraise_error)\n\u001B[0;32m    380\u001B[0m \u001B[38;5;28;01mif\u001B[39;00m subjects_dir \u001B[38;5;129;01mis\u001B[39;00m \u001B[38;5;129;01mnot\u001B[39;00m \u001B[38;5;28;01mNone\u001B[39;00m:\n\u001B[1;32m--> 381\u001B[0m     subjects_dir \u001B[38;5;241m=\u001B[39m _check_fname(\n\u001B[0;32m    382\u001B[0m         fname\u001B[38;5;241m=\u001B[39msubjects_dir, overwrite\u001B[38;5;241m=\u001B[39m\u001B[38;5;124m'\u001B[39m\u001B[38;5;124mread\u001B[39m\u001B[38;5;124m'\u001B[39m, must_exist\u001B[38;5;241m=\u001B[39m\u001B[38;5;28;01mTrue\u001B[39;00m,\n\u001B[0;32m    383\u001B[0m         need_dir\u001B[38;5;241m=\u001B[39m\u001B[38;5;28;01mTrue\u001B[39;00m, name\u001B[38;5;241m=\u001B[39m\u001B[38;5;124m'\u001B[39m\u001B[38;5;124msubjects_dir\u001B[39m\u001B[38;5;124m'\u001B[39m\n\u001B[0;32m    384\u001B[0m     )\n\u001B[0;32m    386\u001B[0m \u001B[38;5;28;01mreturn\u001B[39;00m subjects_dir\n",
      "File \u001B[1;32m<decorator-gen-0>:12\u001B[0m, in \u001B[0;36m_check_fname\u001B[1;34m(fname, overwrite, must_exist, name, need_dir, verbose)\u001B[0m\n",
      "File \u001B[1;32m~\\anaconda3\\envs\\analysis\\Lib\\site-packages\\mne\\utils\\check.py:245\u001B[0m, in \u001B[0;36m_check_fname\u001B[1;34m(fname, overwrite, must_exist, name, need_dir, verbose)\u001B[0m\n\u001B[0;32m    242\u001B[0m             \u001B[38;5;28;01mraise\u001B[39;00m \u001B[38;5;167;01mPermissionError\u001B[39;00m(\n\u001B[0;32m    243\u001B[0m                 \u001B[38;5;124mf\u001B[39m\u001B[38;5;124m'\u001B[39m\u001B[38;5;132;01m{\u001B[39;00mname\u001B[38;5;132;01m}\u001B[39;00m\u001B[38;5;124m does not have read permissions: \u001B[39m\u001B[38;5;132;01m{\u001B[39;00mfname\u001B[38;5;132;01m}\u001B[39;00m\u001B[38;5;124m'\u001B[39m)\n\u001B[0;32m    244\u001B[0m \u001B[38;5;28;01melif\u001B[39;00m must_exist:\n\u001B[1;32m--> 245\u001B[0m     \u001B[38;5;28;01mraise\u001B[39;00m \u001B[38;5;167;01mFileNotFoundError\u001B[39;00m(\u001B[38;5;124mf\u001B[39m\u001B[38;5;124m'\u001B[39m\u001B[38;5;132;01m{\u001B[39;00mname\u001B[38;5;132;01m}\u001B[39;00m\u001B[38;5;124m does not exist: \u001B[39m\u001B[38;5;132;01m{\u001B[39;00mfname\u001B[38;5;132;01m}\u001B[39;00m\u001B[38;5;124m'\u001B[39m)\n\u001B[0;32m    247\u001B[0m \u001B[38;5;28;01mreturn\u001B[39;00m fname\n",
      "\u001B[1;31mFileNotFoundError\u001B[0m: subjects_dir does not exist: C:\\Users\\Jakda\\git\\SentenceRep_analysis\\D29"
     ]
    }
   ],
   "source": [
    "plot_on_average(filt, sub, get_sub_dir())"
   ],
   "metadata": {
    "collapsed": false,
    "ExecuteTime": {
     "start_time": "2023-04-25T15:26:58.575050Z",
     "end_time": "2023-04-25T15:27:10.271110Z"
    }
   }
  }
 ],
 "metadata": {
  "kernelspec": {
   "display_name": "Python 3",
   "language": "python",
   "name": "python3"
  },
  "language_info": {
   "codemirror_mode": {
    "name": "ipython",
    "version": 2
   },
   "file_extension": ".py",
   "mimetype": "text/x-python",
   "name": "python",
   "nbconvert_exporter": "python",
   "pygments_lexer": "ipython2",
   "version": "2.7.6"
  }
 },
 "nbformat": 4,
 "nbformat_minor": 0
}
