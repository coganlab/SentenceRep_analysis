{
 "cells": [
  {
   "cell_type": "code",
   "execution_count": 2,
   "metadata": {
    "collapsed": true,
    "ExecuteTime": {
     "start_time": "2023-04-25T15:15:30.206451Z",
     "end_time": "2023-04-25T15:15:30.344298Z"
    }
   },
   "outputs": [],
   "source": [
    "from ieeg.io import get_data, raw_from_layout\n",
    "from ieeg.viz.mri import plot_subj\n",
    "from os import path\n",
    "import mne\n",
    "HOME = path.expanduser(\"~\")\n",
    "LAB_root = path.join(HOME, \"Box\", \"CoganLab\")\n",
    "# %% Set up logging\n",
    "log_filename = \"output.log\"\n",
    "# op.join(LAB_root, \"Aaron_test\", \"Information.log\")\n",
    "mne.set_log_file(log_filename,\n",
    "                 \"%(levelname)s: %(message)s - %(asctime)s\",\n",
    "                 overwrite=True)\n",
    "mne.set_log_level(\"INFO\")"
   ]
  },
  {
   "cell_type": "code",
   "execution_count": 3,
   "outputs": [
    {
     "name": "stderr",
     "output_type": "stream",
     "text": [
      "C:\\Users\\ae166\\git\\SentenceRep_analysis\\IEEG_Pipelines\\ieeg\\io.py:97: RuntimeWarning: The number of channels in the channels.tsv sidecar file (141) does not match the number of channels in the raw data file (140). Will not try to set channel names.\n",
      "  new_raw = read_raw_bids(bids_path=BIDS_path)\n",
      "C:\\Users\\ae166\\git\\SentenceRep_analysis\\IEEG_Pipelines\\ieeg\\io.py:97: RuntimeWarning: Cannot set channel type for the following channels, as they are missing in the raw data: Trigger\n",
      "  new_raw = read_raw_bids(bids_path=BIDS_path)\n",
      "C:\\Users\\ae166\\git\\SentenceRep_analysis\\IEEG_Pipelines\\ieeg\\io.py:97: RuntimeWarning: Omitted 166 annotation(s) that were outside data range.\n",
      "  new_raw = read_raw_bids(bids_path=BIDS_path)\n",
      "C:\\Users\\ae166\\git\\SentenceRep_analysis\\IEEG_Pipelines\\ieeg\\io.py:97: RuntimeWarning: The number of channels in the channels.tsv sidecar file (141) does not match the number of channels in the raw data file (140). Will not try to set channel names.\n",
      "  new_raw = read_raw_bids(bids_path=BIDS_path)\n",
      "C:\\Users\\ae166\\git\\SentenceRep_analysis\\IEEG_Pipelines\\ieeg\\io.py:97: RuntimeWarning: Cannot set channel type for the following channels, as they are missing in the raw data: Trigger\n",
      "  new_raw = read_raw_bids(bids_path=BIDS_path)\n",
      "C:\\Users\\ae166\\git\\SentenceRep_analysis\\IEEG_Pipelines\\ieeg\\io.py:97: RuntimeWarning: Omitted 166 annotation(s) that were outside data range.\n",
      "  new_raw = read_raw_bids(bids_path=BIDS_path)\n",
      "C:\\Users\\ae166\\git\\SentenceRep_analysis\\IEEG_Pipelines\\ieeg\\io.py:97: RuntimeWarning: The number of channels in the channels.tsv sidecar file (141) does not match the number of channels in the raw data file (140). Will not try to set channel names.\n",
      "  new_raw = read_raw_bids(bids_path=BIDS_path)\n",
      "C:\\Users\\ae166\\git\\SentenceRep_analysis\\IEEG_Pipelines\\ieeg\\io.py:97: RuntimeWarning: Cannot set channel type for the following channels, as they are missing in the raw data: Trigger\n",
      "  new_raw = read_raw_bids(bids_path=BIDS_path)\n",
      "C:\\Users\\ae166\\git\\SentenceRep_analysis\\IEEG_Pipelines\\ieeg\\io.py:97: RuntimeWarning: Omitted 166 annotation(s) that were outside data range.\n",
      "  new_raw = read_raw_bids(bids_path=BIDS_path)\n",
      "C:\\Users\\ae166\\git\\SentenceRep_analysis\\IEEG_Pipelines\\ieeg\\io.py:97: RuntimeWarning: The number of channels in the channels.tsv sidecar file (141) does not match the number of channels in the raw data file (140). Will not try to set channel names.\n",
      "  new_raw = read_raw_bids(bids_path=BIDS_path)\n",
      "C:\\Users\\ae166\\git\\SentenceRep_analysis\\IEEG_Pipelines\\ieeg\\io.py:97: RuntimeWarning: Cannot set channel type for the following channels, as they are missing in the raw data: Trigger\n",
      "  new_raw = read_raw_bids(bids_path=BIDS_path)\n",
      "C:\\Users\\ae166\\git\\SentenceRep_analysis\\IEEG_Pipelines\\ieeg\\io.py:97: RuntimeWarning: Omitted 164 annotation(s) that were outside data range.\n",
      "  new_raw = read_raw_bids(bids_path=BIDS_path)\n",
      "C:\\Users\\ae166\\git\\SentenceRep_analysis\\IEEG_Pipelines\\ieeg\\io.py:97: RuntimeWarning: The number of channels in the channels.tsv sidecar file (141) does not match the number of channels in the raw data file (140). Will not try to set channel names.\n",
      "  new_raw = read_raw_bids(bids_path=BIDS_path)\n",
      "C:\\Users\\ae166\\git\\SentenceRep_analysis\\IEEG_Pipelines\\ieeg\\io.py:97: RuntimeWarning: Cannot set channel type for the following channels, as they are missing in the raw data: Trigger\n",
      "  new_raw = read_raw_bids(bids_path=BIDS_path)\n"
     ]
    },
    {
     "data": {
      "text/plain": "<contextlib._GeneratorContextManager at 0x1dac2f25190>"
     },
     "execution_count": 3,
     "metadata": {},
     "output_type": "execute_result"
    }
   ],
   "source": [
    "TASK = \"SentenceRep\"\n",
    "sub_num = 29\n",
    "layout = get_data(TASK, root=LAB_root)\n",
    "subj_dir = path.join(LAB_root, \"ECoG_Recon_Full\")\n",
    "sub_pad = \"D00{}\".format(sub_num)\n",
    "sub = \"D{}\".format(sub_num)\n",
    "filt = raw_from_layout(layout.derivatives['clean'], subject=sub_pad,\n",
    "                       extension='.edf', desc='clean', preload=True)\n",
    "\n",
    "mne.viz.use_3d_backend('notebook')\n",
    "# %%"
   ],
   "metadata": {
    "collapsed": false,
    "ExecuteTime": {
     "start_time": "2023-04-25T15:15:31.440489Z",
     "end_time": "2023-04-25T15:16:14.268873Z"
    }
   }
  },
  {
   "cell_type": "code",
   "execution_count": 5,
   "outputs": [],
   "source": [
    "plot_subj(filt, sub)"
   ],
   "metadata": {
    "collapsed": false,
    "ExecuteTime": {
     "start_time": "2023-04-25T15:26:58.575050Z",
     "end_time": "2023-04-25T15:27:10.271110Z"
    }
   }
  }
 ],
 "metadata": {
  "kernelspec": {
   "display_name": "Python 3",
   "language": "python",
   "name": "python3"
  },
  "language_info": {
   "codemirror_mode": {
    "name": "ipython",
    "version": 2
   },
   "file_extension": ".py",
   "mimetype": "text/x-python",
   "name": "python",
   "nbconvert_exporter": "python",
   "pygments_lexer": "ipython2",
   "version": "2.7.6"
  }
 },
 "nbformat": 4,
 "nbformat_minor": 0
}
