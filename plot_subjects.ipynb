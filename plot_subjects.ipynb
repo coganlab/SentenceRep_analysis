{
 "cells": [
  {
   "cell_type": "code",
   "execution_count": 1,
   "metadata": {
    "collapsed": true,
    "ExecuteTime": {
     "start_time": "2023-04-25T18:12:04.722768Z",
     "end_time": "2023-04-25T18:12:06.138190Z"
    }
   },
   "outputs": [
    {
     "name": "stderr",
     "output_type": "stream",
     "text": [
      "C:\\Users\\ae166\\git\\SentenceRep_analysis\\IEEG_Pipelines\\ieeg\\viz\\mri.py:219: SyntaxWarning: \"is not\" with a literal. Did you mean \"!=\"?\n",
      "  if not montage.get_positions()['coord_frame'] is 'mri':\n",
      "C:\\Users\\ae166\\git\\SentenceRep_analysis\\IEEG_Pipelines\\ieeg\\viz\\mri.py:220: SyntaxWarning: \"is not\" with a literal. Did you mean \"!=\"?\n",
      "  if not montage.get_positions()['coord_frame'] is 'head':\n"
     ]
    }
   ],
   "source": [
    "from ieeg.io import get_data, raw_from_layout\n",
    "from ieeg.viz.mri import plot_subj, get_sub_dir, plot_on_average\n",
    "from utils.mat_load import load_intermediates\n",
    "import os\n",
    "import mne\n",
    "\n",
    "# %% Set up logging\n",
    "log_filename = \"output.log\"\n",
    "# op.join(LAB_root, \"Aaron_test\", \"Information.log\")\n",
    "mne.set_log_file(log_filename,\n",
    "                 \"%(levelname)s: %(message)s - %(asctime)s\",\n",
    "                 overwrite=True)\n",
    "mne.set_log_level(\"INFO\")"
   ]
  },
  {
   "cell_type": "code",
   "execution_count": 2,
   "outputs": [
    {
     "data": {
      "text/plain": "<contextlib._GeneratorContextManager at 0x2710053ee50>"
     },
     "execution_count": 2,
     "metadata": {},
     "output_type": "execute_result"
    }
   ],
   "source": [
    "HOME = os.path.expanduser(\"~\")\n",
    "LAB_root = os.path.join(HOME, \"Box\", \"CoganLab\")\n",
    "layout = get_data(\"SentenceRep\", root=LAB_root)\n",
    "conds = {\"resp\": (-1, 1),\n",
    "         \"aud_ls\": (-0.5, 1.5),\n",
    "         \"aud_lm\": (-0.5, 1.5),\n",
    "         \"aud_jl\": (-0.5, 1.5),\n",
    "         \"go_ls\": (-0.5, 1.5),\n",
    "         \"go_lm\": (-0.5, 1.5),\n",
    "         \"go_jl\": (-0.5, 1.5)}\n",
    "\n",
    "epochs, all_power, names = load_intermediates(layout, conds, \"zscore\")\n",
    "\n",
    "mne.viz.use_3d_backend('notebook')\n",
    "# %%"
   ],
   "metadata": {
    "collapsed": false,
    "ExecuteTime": {
     "start_time": "2023-04-25T18:12:06.138190Z",
     "end_time": "2023-04-25T18:12:20.831293Z"
    }
   }
  },
  {
   "cell_type": "code",
   "execution_count": 3,
   "outputs": [],
   "source": [
    "x = {\"D\" + str(int(k[1:])): v['resp'] for (k, v) in epochs.items() if v.values()}"
   ],
   "metadata": {
    "collapsed": false,
    "ExecuteTime": {
     "start_time": "2023-04-25T18:12:20.831293Z",
     "end_time": "2023-04-25T18:12:20.838870Z"
    }
   }
  },
  {
   "cell_type": "code",
   "execution_count": 4,
   "outputs": [],
   "source": [
    "# plot_subj(x['D0003'], 'D3')\n",
    "brain = plot_on_average(x, get_sub_dir())"
   ],
   "metadata": {
    "collapsed": false,
    "ExecuteTime": {
     "start_time": "2023-04-25T18:12:20.838870Z",
     "end_time": "2023-04-25T18:12:24.010573Z"
    }
   }
  }
 ],
 "metadata": {
  "kernelspec": {
   "display_name": "Python 3",
   "language": "python",
   "name": "python3"
  },
  "language_info": {
   "codemirror_mode": {
    "name": "ipython",
    "version": 2
   },
   "file_extension": ".py",
   "mimetype": "text/x-python",
   "name": "python",
   "nbconvert_exporter": "python",
   "pygments_lexer": "ipython2",
   "version": "2.7.6"
  }
 },
 "nbformat": 4,
 "nbformat_minor": 0
}
