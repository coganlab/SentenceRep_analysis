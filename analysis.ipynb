{
 "cells": [
  {
   "cell_type": "code",
   "execution_count": 3,
   "metadata": {
    "collapsed": true
   },
   "outputs": [],
   "source": [
    "from utils.mat_load import get_sigs, load_all, group_elecs\n",
    "from plotting import plot_opt_k, plot_clustering, alt_plot\n",
    "from utils.calc import ArrayLike, BaseEstimator, stitch_mats\n",
    "import matplotlib.pyplot as plt\n",
    "import numpy as np\n",
    "Task, all_sigZ, all_sigA, sig_chans, sigMatChansLoc, sigMatChansName, Subject = load_all('data/whole.mat')"
   ]
  },
  {
   "cell_type": "code",
   "execution_count": 4,
   "outputs": [],
   "source": [
    "cond = 'LSwords'\n",
    "aud = all_sigA[cond][\"AuditoryWhole\"]\n",
    "go = all_sigA[cond][\"GoWhole\"]\n",
    "resp = all_sigA[cond][\"ResponseWhole\"]\n",
    "audz = all_sigZ[cond][\"AuditoryWhole\"]\n",
    "goz = all_sigZ[cond][\"GoWhole\"]\n",
    "respz = all_sigZ[cond][\"ResponseWhole\"]\n",
    "newSet = [aud, go, resp, audz, goz, respz]\n",
    "sigConcat = np.concatenate(newSet,axis=1)\n",
    "nonActive = np.where(np.all(np.isclose(sigConcat, 0), axis=1))\n",
    "newSet.append(sigConcat)\n",
    "for i, allign in enumerate(newSet):\n",
    "    newSet[i] = np.delete(allign, nonActive, axis=0)\n",
    "[aud, go, resp, audz, goz, respz, sigConcat] = newSet[:]\n",
    "audwt = np.multiply(aud, audz)[]\n",
    "gowt = np.multiply(go, goz)\n",
    "respwt = np.multiply(resp, respz)\n",
    "sigSum = np.sum(np.array(newSet[0:3]),axis=0)\n",
    "middle = (sigSum >= 2)[50:250]\n",
    "start = (sigSum >= 1)[0:50]\n",
    "end = (sigSum >= 1)[250:400]\n",
    "checkedSig = np.concatenate([start, middle, end], axis=0)"
   ],
   "metadata": {
    "collapsed": false
   }
  }
 ],
 "metadata": {
  "kernelspec": {
   "display_name": "Python 3",
   "language": "python",
   "name": "python3"
  },
  "language_info": {
   "codemirror_mode": {
    "name": "ipython",
    "version": 2
   },
   "file_extension": ".py",
   "mimetype": "text/x-python",
   "name": "python",
   "nbconvert_exporter": "python",
   "pygments_lexer": "ipython2",
   "version": "2.7.6"
  }
 },
 "nbformat": 4,
 "nbformat_minor": 0
}
